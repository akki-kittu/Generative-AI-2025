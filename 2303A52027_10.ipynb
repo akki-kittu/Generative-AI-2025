{
  "nbformat": 4,
  "nbformat_minor": 0,
  "metadata": {
    "colab": {
      "provenance": [],
      "authorship_tag": "ABX9TyN0TJHj5vabm4Lkkw9YmKiF",
      "include_colab_link": true
    },
    "kernelspec": {
      "name": "python3",
      "display_name": "Python 3"
    },
    "language_info": {
      "name": "python"
    }
  },
  "cells": [
    {
      "cell_type": "markdown",
      "metadata": {
        "id": "view-in-github",
        "colab_type": "text"
      },
      "source": [
        "<a href=\"https://colab.research.google.com/github/akki-kittu/Generative-AI-2025/blob/main/2303A52027_10.ipynb\" target=\"_parent\"><img src=\"https://colab.research.google.com/assets/colab-badge.svg\" alt=\"Open In Colab\"/></a>"
      ]
    },
    {
      "cell_type": "code",
      "execution_count": 1,
      "metadata": {
        "colab": {
          "base_uri": "https://localhost:8080/"
        },
        "id": "YZLaXdsari3y",
        "outputId": "7951d82b-ff6e-43a0-c273-b9caab64fd10"
      },
      "outputs": [
        {
          "output_type": "stream",
          "name": "stdout",
          "text": [
            "Downloading data from https://storage.googleapis.com/tensorflow/tf-keras-datasets/mnist.npz\n",
            "\u001b[1m11490434/11490434\u001b[0m \u001b[32m━━━━━━━━━━━━━━━━━━━━\u001b[0m\u001b[37m\u001b[0m \u001b[1m0s\u001b[0m 0us/step\n"
          ]
        },
        {
          "output_type": "stream",
          "name": "stderr",
          "text": [
            "/usr/local/lib/python3.11/dist-packages/keras/src/layers/convolutional/base_conv.py:107: UserWarning: Do not pass an `input_shape`/`input_dim` argument to a layer. When using Sequential models, prefer using an `Input(shape)` object as the first layer in the model instead.\n",
            "  super().__init__(activity_regularizer=activity_regularizer, **kwargs)\n"
          ]
        },
        {
          "output_type": "stream",
          "name": "stdout",
          "text": [
            "Epoch 1/30\n",
            "1875/1875 - 67s - 36ms/step - accuracy: 0.9606 - loss: 0.1292 - val_accuracy: 0.9840 - val_loss: 0.0523\n",
            "Epoch 2/30\n",
            "1875/1875 - 61s - 33ms/step - accuracy: 0.9859 - loss: 0.0445 - val_accuracy: 0.9884 - val_loss: 0.0370\n",
            "Epoch 3/30\n",
            "1875/1875 - 82s - 44ms/step - accuracy: 0.9907 - loss: 0.0294 - val_accuracy: 0.9899 - val_loss: 0.0304\n",
            "Epoch 4/30\n",
            "1875/1875 - 81s - 43ms/step - accuracy: 0.9931 - loss: 0.0221 - val_accuracy: 0.9896 - val_loss: 0.0309\n",
            "Epoch 5/30\n",
            "1875/1875 - 82s - 44ms/step - accuracy: 0.9946 - loss: 0.0162 - val_accuracy: 0.9898 - val_loss: 0.0295\n",
            "Epoch 6/30\n",
            "1875/1875 - 58s - 31ms/step - accuracy: 0.9961 - loss: 0.0123 - val_accuracy: 0.9913 - val_loss: 0.0276\n",
            "Epoch 7/30\n",
            "1875/1875 - 84s - 45ms/step - accuracy: 0.9967 - loss: 0.0096 - val_accuracy: 0.9909 - val_loss: 0.0287\n",
            "Epoch 8/30\n",
            "1875/1875 - 84s - 45ms/step - accuracy: 0.9969 - loss: 0.0092 - val_accuracy: 0.9897 - val_loss: 0.0346\n",
            "Epoch 9/30\n",
            "1875/1875 - 78s - 42ms/step - accuracy: 0.9976 - loss: 0.0073 - val_accuracy: 0.9916 - val_loss: 0.0294\n",
            "Epoch 10/30\n",
            "1875/1875 - 84s - 45ms/step - accuracy: 0.9978 - loss: 0.0062 - val_accuracy: 0.9893 - val_loss: 0.0407\n",
            "Epoch 11/30\n",
            "1875/1875 - 83s - 44ms/step - accuracy: 0.9981 - loss: 0.0053 - val_accuracy: 0.9895 - val_loss: 0.0472\n",
            "Epoch 12/30\n",
            "1875/1875 - 80s - 43ms/step - accuracy: 0.9980 - loss: 0.0059 - val_accuracy: 0.9892 - val_loss: 0.0419\n",
            "Epoch 13/30\n",
            "1875/1875 - 82s - 44ms/step - accuracy: 0.9985 - loss: 0.0045 - val_accuracy: 0.9906 - val_loss: 0.0400\n",
            "Epoch 14/30\n",
            "1875/1875 - 81s - 43ms/step - accuracy: 0.9984 - loss: 0.0047 - val_accuracy: 0.9911 - val_loss: 0.0376\n",
            "Epoch 15/30\n",
            "1875/1875 - 80s - 43ms/step - accuracy: 0.9988 - loss: 0.0032 - val_accuracy: 0.9924 - val_loss: 0.0409\n",
            "Epoch 16/30\n",
            "1875/1875 - 84s - 45ms/step - accuracy: 0.9984 - loss: 0.0049 - val_accuracy: 0.9909 - val_loss: 0.0467\n",
            "Epoch 17/30\n",
            "1875/1875 - 80s - 43ms/step - accuracy: 0.9989 - loss: 0.0042 - val_accuracy: 0.9909 - val_loss: 0.0438\n",
            "Epoch 18/30\n",
            "1875/1875 - 81s - 43ms/step - accuracy: 0.9990 - loss: 0.0029 - val_accuracy: 0.9928 - val_loss: 0.0428\n",
            "Epoch 19/30\n",
            "1875/1875 - 83s - 44ms/step - accuracy: 0.9986 - loss: 0.0042 - val_accuracy: 0.9890 - val_loss: 0.0555\n",
            "Epoch 20/30\n",
            "1875/1875 - 58s - 31ms/step - accuracy: 0.9991 - loss: 0.0029 - val_accuracy: 0.9906 - val_loss: 0.0597\n",
            "Epoch 21/30\n",
            "1875/1875 - 60s - 32ms/step - accuracy: 0.9987 - loss: 0.0044 - val_accuracy: 0.9903 - val_loss: 0.0601\n",
            "Epoch 22/30\n",
            "1875/1875 - 83s - 44ms/step - accuracy: 0.9991 - loss: 0.0028 - val_accuracy: 0.9917 - val_loss: 0.0457\n",
            "Epoch 23/30\n",
            "1875/1875 - 80s - 43ms/step - accuracy: 0.9990 - loss: 0.0037 - val_accuracy: 0.9913 - val_loss: 0.0452\n",
            "Epoch 24/30\n",
            "1875/1875 - 82s - 44ms/step - accuracy: 0.9988 - loss: 0.0034 - val_accuracy: 0.9912 - val_loss: 0.0516\n",
            "Epoch 25/30\n",
            "1875/1875 - 81s - 43ms/step - accuracy: 0.9989 - loss: 0.0025 - val_accuracy: 0.9914 - val_loss: 0.0592\n",
            "Epoch 26/30\n",
            "1875/1875 - 81s - 43ms/step - accuracy: 0.9990 - loss: 0.0033 - val_accuracy: 0.9917 - val_loss: 0.0456\n",
            "Epoch 27/30\n",
            "1875/1875 - 59s - 32ms/step - accuracy: 0.9990 - loss: 0.0029 - val_accuracy: 0.9913 - val_loss: 0.0569\n",
            "Epoch 28/30\n",
            "1875/1875 - 83s - 44ms/step - accuracy: 0.9992 - loss: 0.0028 - val_accuracy: 0.9901 - val_loss: 0.0791\n",
            "Epoch 29/30\n",
            "1875/1875 - 81s - 43ms/step - accuracy: 0.9990 - loss: 0.0035 - val_accuracy: 0.9892 - val_loss: 0.0705\n",
            "Epoch 30/30\n",
            "1875/1875 - 81s - 43ms/step - accuracy: 0.9992 - loss: 0.0028 - val_accuracy: 0.9922 - val_loss: 0.0596\n",
            "Training Accuracy: 0.9997\n",
            "Testing Accuracy: 0.9922\n"
          ]
        }
      ],
      "source": [
        "import tensorflow as tf\n",
        "from tensorflow.keras import datasets, layers, models\n",
        "from tensorflow.keras.utils import to_categorical\n",
        "\n",
        "# Load the MNIST dataset\n",
        "(x_train, y_train), (x_test, y_test) = datasets.mnist.load_data()\n",
        "\n",
        "# Normalize and reshape the data\n",
        "x_train = x_train.reshape(-1, 28, 28, 1).astype(\"float32\") / 255.0\n",
        "x_test = x_test.reshape(-1, 28, 28, 1).astype(\"float32\") / 255.0\n",
        "\n",
        "# One-hot encode the labels\n",
        "y_train = to_categorical(y_train, 10)\n",
        "y_test = to_categorical(y_test, 10)\n",
        "\n",
        "# Build the CNN model\n",
        "model = models.Sequential([\n",
        "    layers.Conv2D(33, (3, 3), activation='relu', input_shape=(28, 28, 1)),\n",
        "    layers.MaxPooling2D(pool_size=(2, 2)),\n",
        "    layers.Conv2D(64, (3, 3), activation='relu'),\n",
        "    layers.MaxPooling2D(pool_size=(2, 2)),\n",
        "    layers.Flatten(),\n",
        "    layers.Dense(128, activation='relu'),\n",
        "    layers.Dense(10, activation='softmax')  # Output layer for 10 digit classes\n",
        "])\n",
        "\n",
        "# Compile the model\n",
        "model.compile(optimizer='adam',\n",
        "              loss='categorical_crossentropy',\n",
        "              metrics=['accuracy'])\n",
        "\n",
        "# Train the model\n",
        "model.fit(x_train, y_train,\n",
        "          epochs=30,\n",
        "          batch_size=32,\n",
        "          validation_data=(x_test, y_test),\n",
        "          verbose=2)\n",
        "\n",
        "# Evaluate on training data\n",
        "train_loss, train_acc = model.evaluate(x_train, y_train, verbose=0)\n",
        "print(f\"Training Accuracy: {train_acc:.4f}\")\n",
        "\n",
        "# Evaluate on test data\n",
        "test_loss, test_acc = model.evaluate(x_test, y_test, verbose=0)\n",
        "print(f\"Testing Accuracy: {test_acc:.4f}\")\n"
      ]
    }
  ]
}